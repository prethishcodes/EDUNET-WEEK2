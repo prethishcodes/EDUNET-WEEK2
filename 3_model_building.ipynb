{
 "cells": [
  {
   "cell_type": "markdown",
   "id": "111c9877",
   "metadata": {},
   "source": [
    "# Stage 3: Predictive Data Analysis with Random Forest :\n",
    "In this notebook, we build a predictive model to forecast CO₂ emissions per capita using a Random Forest regressor. We perform feature selection, model tuning, cross-validation, and testing on unseen data.\n"
   ]
  },
  {
   "cell_type": "markdown",
   "id": "b0add2f8",
   "metadata": {},
   "source": [
    "# Import essential libraries"
   ]
  },
  {
   "cell_type": "code",
   "execution_count": 1,
   "id": "6a51434e",
   "metadata": {},
   "outputs": [
    {
     "name": "stdout",
     "output_type": "stream",
     "text": [
      "c:\\Users\\HP\\anaconda3\\python.exe\n"
     ]
    }
   ],
   "source": [
    "import sys\n",
    "print(sys.executable)"
   ]
  },
  {
   "cell_type": "code",
   "execution_count": 2,
   "id": "4950f925",
   "metadata": {},
   "outputs": [
    {
     "name": "stdout",
     "output_type": "stream",
     "text": [
      "Requirement already satisfied: scikit-learn in c:\\users\\hp\\anaconda3\\lib\\site-packages (1.5.1)\n",
      "Requirement already satisfied: numpy>=1.19.5 in c:\\users\\hp\\anaconda3\\lib\\site-packages (from scikit-learn) (1.26.4)\n",
      "Requirement already satisfied: scipy>=1.6.0 in c:\\users\\hp\\anaconda3\\lib\\site-packages (from scikit-learn) (1.13.1)\n",
      "Requirement already satisfied: joblib>=1.2.0 in c:\\users\\hp\\anaconda3\\lib\\site-packages (from scikit-learn) (1.4.2)\n",
      "Requirement already satisfied: threadpoolctl>=3.1.0 in c:\\users\\hp\\anaconda3\\lib\\site-packages (from scikit-learn) (3.5.0)\n",
      "Note: you may need to restart the kernel to use updated packages.\n"
     ]
    }
   ],
   "source": [
    "pip install scikit-learn\n"
   ]
  },
  {
   "cell_type": "code",
   "execution_count": 3,
   "id": "dbbb3794",
   "metadata": {},
   "outputs": [],
   "source": [
    "import pandas as pd\n",
    "import numpy as np\n",
    "import matplotlib.pyplot as plt\n",
    "import seaborn as sns\n",
    "\n",
    "from sklearn.model_selection import train_test_split, GridSearchCV\n",
    "from sklearn.ensemble import RandomForestRegressor\n",
    "from sklearn.feature_selection import RFECV\n",
    "from sklearn.metrics import mean_absolute_error, mean_squared_error, r2_score\n",
    "from sklearn.preprocessing import StandardScaler\n",
    "\n",
    "import warnings\n",
    "warnings.filterwarnings(\"ignore\")\n"
   ]
  },
  {
   "cell_type": "code",
   "execution_count": 4,
   "id": "48732ce2",
   "metadata": {},
   "outputs": [],
   "source": [
    "import numpy as np\n",
    "np.random.seed(1)"
   ]
  },
  {
   "cell_type": "code",
   "execution_count": 5,
   "id": "50ced9f4",
   "metadata": {},
   "outputs": [
    {
     "data": {
      "text/html": [
       "<div>\n",
       "<style scoped>\n",
       "    .dataframe tbody tr th:only-of-type {\n",
       "        vertical-align: middle;\n",
       "    }\n",
       "\n",
       "    .dataframe tbody tr th {\n",
       "        vertical-align: top;\n",
       "    }\n",
       "\n",
       "    .dataframe thead th {\n",
       "        text-align: right;\n",
       "    }\n",
       "</style>\n",
       "<table border=\"1\" class=\"dataframe\">\n",
       "  <thead>\n",
       "    <tr style=\"text-align: right;\">\n",
       "      <th></th>\n",
       "      <th>Country code</th>\n",
       "      <th>Year</th>\n",
       "      <th>cereal_yield_(kg_per_hectare)</th>\n",
       "      <th>co2_emissions,_total_(ktco2)</th>\n",
       "      <th>co2_emissions_per_capita_(metric_tons)</th>\n",
       "      <th>co2_emissions_per_units_of_gdp_(kg/$1,000_of_2005_ppp_$)</th>\n",
       "      <th>energy_use_per_capita_(kilograms_of_oil_equivalent)</th>\n",
       "      <th>energy_use_per_units_of_gdp_(kg_oil_eq./$1,000_of_2005_ppp_$)</th>\n",
       "      <th>foreign_direct_investment,_net_inflows_(%_of_gdp)</th>\n",
       "      <th>gdp_($)</th>\n",
       "      <th>gni_per_capita_(atlas_$)</th>\n",
       "      <th>nationally_terrestrial_protected_areas_(%_of_total_land_area)</th>\n",
       "      <th>population</th>\n",
       "      <th>population_growth_(annual_%)</th>\n",
       "      <th>population_in_urban_agglomerations_&gt;1million_(%)</th>\n",
       "      <th>ratio_of_girls_to_boys_in_primary_&amp;_secondary_school_(%)</th>\n",
       "      <th>under-five_mortality_rate_(per_1,000)</th>\n",
       "      <th>urban_population</th>\n",
       "      <th>urban_population_growth_(annual_%)</th>\n",
       "    </tr>\n",
       "  </thead>\n",
       "  <tbody>\n",
       "    <tr>\n",
       "      <th>0</th>\n",
       "      <td>AGO</td>\n",
       "      <td>1998</td>\n",
       "      <td>701.6</td>\n",
       "      <td>7308.331</td>\n",
       "      <td>0.556263</td>\n",
       "      <td>211.871013</td>\n",
       "      <td>519.274349</td>\n",
       "      <td>197.782664</td>\n",
       "      <td>17.283736</td>\n",
       "      <td>6.445192e+09</td>\n",
       "      <td>460.0</td>\n",
       "      <td>12.399827</td>\n",
       "      <td>13138265.0</td>\n",
       "      <td>2.669046</td>\n",
       "      <td>17.421341</td>\n",
       "      <td>82.045</td>\n",
       "      <td>207.9</td>\n",
       "      <td>6.174985e+06</td>\n",
       "      <td>4.819667</td>\n",
       "    </tr>\n",
       "    <tr>\n",
       "      <th>1</th>\n",
       "      <td>ARE</td>\n",
       "      <td>1990</td>\n",
       "      <td>2216.4</td>\n",
       "      <td>52009.061</td>\n",
       "      <td>28.755863</td>\n",
       "      <td>547.419170</td>\n",
       "      <td>11258.132345</td>\n",
       "      <td>214.318643</td>\n",
       "      <td>-0.344157</td>\n",
       "      <td>3.365323e+10</td>\n",
       "      <td>20720.0</td>\n",
       "      <td>0.266885</td>\n",
       "      <td>1808642.0</td>\n",
       "      <td>5.653214</td>\n",
       "      <td>26.135686</td>\n",
       "      <td>103.860</td>\n",
       "      <td>21.5</td>\n",
       "      <td>1.430636e+06</td>\n",
       "      <td>5.476379</td>\n",
       "    </tr>\n",
       "    <tr>\n",
       "      <th>2</th>\n",
       "      <td>ARE</td>\n",
       "      <td>1991</td>\n",
       "      <td>1594.0</td>\n",
       "      <td>57010.849</td>\n",
       "      <td>29.851550</td>\n",
       "      <td>598.807980</td>\n",
       "      <td>12262.388130</td>\n",
       "      <td>245.977706</td>\n",
       "      <td>0.076475</td>\n",
       "      <td>3.391964e+10</td>\n",
       "      <td>19340.0</td>\n",
       "      <td>0.266886</td>\n",
       "      <td>1909812.0</td>\n",
       "      <td>5.442852</td>\n",
       "      <td>26.377204</td>\n",
       "      <td>104.111</td>\n",
       "      <td>20.5</td>\n",
       "      <td>1.507988e+06</td>\n",
       "      <td>5.265704</td>\n",
       "    </tr>\n",
       "    <tr>\n",
       "      <th>3</th>\n",
       "      <td>ARE</td>\n",
       "      <td>1992</td>\n",
       "      <td>2315.3</td>\n",
       "      <td>58136.618</td>\n",
       "      <td>28.864884</td>\n",
       "      <td>594.636182</td>\n",
       "      <td>11058.790176</td>\n",
       "      <td>227.818578</td>\n",
       "      <td>0.366309</td>\n",
       "      <td>3.541269e+10</td>\n",
       "      <td>19430.0</td>\n",
       "      <td>0.266889</td>\n",
       "      <td>2014095.0</td>\n",
       "      <td>5.316516</td>\n",
       "      <td>26.656886</td>\n",
       "      <td>103.977</td>\n",
       "      <td>19.4</td>\n",
       "      <td>1.587510e+06</td>\n",
       "      <td>5.139053</td>\n",
       "    </tr>\n",
       "    <tr>\n",
       "      <th>4</th>\n",
       "      <td>ARE</td>\n",
       "      <td>1993</td>\n",
       "      <td>858.5</td>\n",
       "      <td>65980.331</td>\n",
       "      <td>31.097802</td>\n",
       "      <td>680.992757</td>\n",
       "      <td>11039.320754</td>\n",
       "      <td>241.743692</td>\n",
       "      <td>1.122721</td>\n",
       "      <td>3.574530e+10</td>\n",
       "      <td>18550.0</td>\n",
       "      <td>0.267616</td>\n",
       "      <td>2121704.0</td>\n",
       "      <td>5.204958</td>\n",
       "      <td>26.964930</td>\n",
       "      <td>103.984</td>\n",
       "      <td>18.3</td>\n",
       "      <td>1.669357e+06</td>\n",
       "      <td>5.027180</td>\n",
       "    </tr>\n",
       "  </tbody>\n",
       "</table>\n",
       "</div>"
      ],
      "text/plain": [
       "  Country code  Year  cereal_yield_(kg_per_hectare)  \\\n",
       "0          AGO  1998                          701.6   \n",
       "1          ARE  1990                         2216.4   \n",
       "2          ARE  1991                         1594.0   \n",
       "3          ARE  1992                         2315.3   \n",
       "4          ARE  1993                          858.5   \n",
       "\n",
       "   co2_emissions,_total_(ktco2)  co2_emissions_per_capita_(metric_tons)  \\\n",
       "0                      7308.331                                0.556263   \n",
       "1                     52009.061                               28.755863   \n",
       "2                     57010.849                               29.851550   \n",
       "3                     58136.618                               28.864884   \n",
       "4                     65980.331                               31.097802   \n",
       "\n",
       "   co2_emissions_per_units_of_gdp_(kg/$1,000_of_2005_ppp_$)  \\\n",
       "0                                         211.871013          \n",
       "1                                         547.419170          \n",
       "2                                         598.807980          \n",
       "3                                         594.636182          \n",
       "4                                         680.992757          \n",
       "\n",
       "   energy_use_per_capita_(kilograms_of_oil_equivalent)  \\\n",
       "0                                         519.274349     \n",
       "1                                       11258.132345     \n",
       "2                                       12262.388130     \n",
       "3                                       11058.790176     \n",
       "4                                       11039.320754     \n",
       "\n",
       "   energy_use_per_units_of_gdp_(kg_oil_eq./$1,000_of_2005_ppp_$)  \\\n",
       "0                                         197.782664               \n",
       "1                                         214.318643               \n",
       "2                                         245.977706               \n",
       "3                                         227.818578               \n",
       "4                                         241.743692               \n",
       "\n",
       "   foreign_direct_investment,_net_inflows_(%_of_gdp)       gdp_($)  \\\n",
       "0                                          17.283736  6.445192e+09   \n",
       "1                                          -0.344157  3.365323e+10   \n",
       "2                                           0.076475  3.391964e+10   \n",
       "3                                           0.366309  3.541269e+10   \n",
       "4                                           1.122721  3.574530e+10   \n",
       "\n",
       "   gni_per_capita_(atlas_$)  \\\n",
       "0                     460.0   \n",
       "1                   20720.0   \n",
       "2                   19340.0   \n",
       "3                   19430.0   \n",
       "4                   18550.0   \n",
       "\n",
       "   nationally_terrestrial_protected_areas_(%_of_total_land_area)  population  \\\n",
       "0                                          12.399827              13138265.0   \n",
       "1                                           0.266885               1808642.0   \n",
       "2                                           0.266886               1909812.0   \n",
       "3                                           0.266889               2014095.0   \n",
       "4                                           0.267616               2121704.0   \n",
       "\n",
       "   population_growth_(annual_%)  \\\n",
       "0                      2.669046   \n",
       "1                      5.653214   \n",
       "2                      5.442852   \n",
       "3                      5.316516   \n",
       "4                      5.204958   \n",
       "\n",
       "   population_in_urban_agglomerations_>1million_(%)  \\\n",
       "0                                         17.421341   \n",
       "1                                         26.135686   \n",
       "2                                         26.377204   \n",
       "3                                         26.656886   \n",
       "4                                         26.964930   \n",
       "\n",
       "   ratio_of_girls_to_boys_in_primary_&_secondary_school_(%)  \\\n",
       "0                                             82.045          \n",
       "1                                            103.860          \n",
       "2                                            104.111          \n",
       "3                                            103.977          \n",
       "4                                            103.984          \n",
       "\n",
       "   under-five_mortality_rate_(per_1,000)  urban_population  \\\n",
       "0                                  207.9      6.174985e+06   \n",
       "1                                   21.5      1.430636e+06   \n",
       "2                                   20.5      1.507988e+06   \n",
       "3                                   19.4      1.587510e+06   \n",
       "4                                   18.3      1.669357e+06   \n",
       "\n",
       "   urban_population_growth_(annual_%)  \n",
       "0                            4.819667  \n",
       "1                            5.476379  \n",
       "2                            5.265704  \n",
       "3                            5.139053  \n",
       "4                            5.027180  "
      ]
     },
     "execution_count": 5,
     "metadata": {},
     "output_type": "execute_result"
    }
   ],
   "source": [
    "# import the cleaned dataset from a csv file\n",
    "data = pd.read_csv(r'cleaned_climate_data.csv')\n",
    "data.head()"
   ]
  },
  {
   "cell_type": "code",
   "execution_count": 6,
   "id": "0f6867d9",
   "metadata": {},
   "outputs": [],
   "source": [
    "# define a random state number for all random state - ensures reproducibility of all results\n",
    "random_state_num = 0"
   ]
  },
  {
   "cell_type": "markdown",
   "id": "081b3c2f",
   "metadata": {},
   "source": [
    "# Overview of the available data\n",
    "A global overview of the imported data yields the following insights:"
   ]
  },
  {
   "cell_type": "code",
   "execution_count": 7,
   "id": "ed85783f",
   "metadata": {},
   "outputs": [
    {
     "name": "stdout",
     "output_type": "stream",
     "text": [
      "Shape of the dataset:\n"
     ]
    },
    {
     "data": {
      "text/plain": [
       "(1327, 19)"
      ]
     },
     "execution_count": 7,
     "metadata": {},
     "output_type": "execute_result"
    }
   ],
   "source": [
    "print(\"Shape of the dataset:\")\n",
    "data.shape"
   ]
  },
  {
   "cell_type": "code",
   "execution_count": 8,
   "id": "000c099d",
   "metadata": {},
   "outputs": [
    {
     "name": "stdout",
     "output_type": "stream",
     "text": [
      "available columns and their data types:\n"
     ]
    },
    {
     "data": {
      "text/plain": [
       "Country code                                                      object\n",
       "Year                                                               int64\n",
       "cereal_yield_(kg_per_hectare)                                    float64\n",
       "co2_emissions,_total_(ktco2)                                     float64\n",
       "co2_emissions_per_capita_(metric_tons)                           float64\n",
       "co2_emissions_per_units_of_gdp_(kg/$1,000_of_2005_ppp_$)         float64\n",
       "energy_use_per_capita_(kilograms_of_oil_equivalent)              float64\n",
       "energy_use_per_units_of_gdp_(kg_oil_eq./$1,000_of_2005_ppp_$)    float64\n",
       "foreign_direct_investment,_net_inflows_(%_of_gdp)                float64\n",
       "gdp_($)                                                          float64\n",
       "gni_per_capita_(atlas_$)                                         float64\n",
       "nationally_terrestrial_protected_areas_(%_of_total_land_area)    float64\n",
       "population                                                       float64\n",
       "population_growth_(annual_%)                                     float64\n",
       "population_in_urban_agglomerations_>1million_(%)                 float64\n",
       "ratio_of_girls_to_boys_in_primary_&_secondary_school_(%)         float64\n",
       "under-five_mortality_rate_(per_1,000)                            float64\n",
       "urban_population                                                 float64\n",
       "urban_population_growth_(annual_%)                               float64\n",
       "dtype: object"
      ]
     },
     "execution_count": 8,
     "metadata": {},
     "output_type": "execute_result"
    }
   ],
   "source": [
    "print(\"available columns and their data types:\")\n",
    "data.dtypes"
   ]
  },
  {
   "cell_type": "markdown",
   "id": "5e08a11f",
   "metadata": {},
   "source": [
    "# Dealing with outliers"
   ]
  },
  {
   "cell_type": "code",
   "execution_count": 9,
   "id": "342f1a34",
   "metadata": {},
   "outputs": [
    {
     "name": "stdout",
     "output_type": "stream",
     "text": [
      "Shape of the dataset after removing the ARE outliers:\n"
     ]
    },
    {
     "data": {
      "text/plain": [
       "(1313, 19)"
      ]
     },
     "execution_count": 9,
     "metadata": {},
     "output_type": "execute_result"
    }
   ],
   "source": [
    "# remove the ARE outliers\n",
    "data = data[data['Country code']!='ARE']\n",
    "\n",
    "# print shape after removing the outliers\n",
    "print(\"Shape of the dataset after removing the ARE outliers:\")\n",
    "data.shape"
   ]
  },
  {
   "cell_type": "markdown",
   "id": "9c1987d0",
   "metadata": {},
   "source": [
    "# The hypothesis to be investigated"
   ]
  },
  {
   "cell_type": "code",
   "execution_count": 10,
   "id": "07f13c49",
   "metadata": {},
   "outputs": [
    {
     "name": "stdout",
     "output_type": "stream",
     "text": [
      "available columns :\n"
     ]
    },
    {
     "data": {
      "text/plain": [
       "Index(['country', 'year', 'cereal_yield', 'co2_ttl', 'co2_per_cap',\n",
       "       'co2_per_gdp', 'en_per_cap', 'en_per_gdp', 'fdi_perc_gdp', 'gdp',\n",
       "       'gni_per_cap', 'prot_area_perc', 'pop', 'pop_growth_perc',\n",
       "       'pop_urb_aggl_perc',\n",
       "       'ratio_of_girls_to_boys_in_primary_&_secondary_school_(%)',\n",
       "       'under_5_mort_rate', 'urb_pop', 'urb_pop_growth_perc'],\n",
       "      dtype='object')"
      ]
     },
     "execution_count": 10,
     "metadata": {},
     "output_type": "execute_result"
    }
   ],
   "source": [
    "# Renaming Columns\n",
    "\n",
    "data.rename(columns={\n",
    "    \"Country code\": \"country\",\n",
    "    \"Year\": \"year\",\n",
    "    \"cereal_yield_(kg_per_hectare)\": \"cereal_yield\",\n",
    "    \"foreign_direct_investment,_net_inflows_(%_of_gdp)\": \"fdi_perc_gdp\",\n",
    "    \"energy_use_per_units_of_gdp_(kg_oil_eq./$1,000_of_2005_ppp_$)\": \"en_per_gdp\",\n",
    "    \"energy_use_per_capita_(kilograms_of_oil_equivalent)\": \"en_per_cap\",\n",
    "    \"co2_emissions,_total_(ktco2)\": \"co2_ttl\",\n",
    "    \"co2_emissions_per_capita_(metric_tons)\": \"co2_per_cap\",\n",
    "    \"co2_emissions_per_units_of_gdp_(kg/$1,000_of_2005_ppp_$)\": \"co2_per_gdp\",\n",
    "    \"population_in_urban_agglomerations_>1million_(%)\": \"pop_urb_aggl_perc\",\n",
    "    \"nationally_terrestrial_protected_areas_(%_of_total_land_area)\": \"prot_area_perc\",\n",
    "    \"gdp_($)\": \"gdp\",\n",
    "    \"gni_per_capita_(atlas_$)\": \"gni_per_cap\",\n",
    "    \"under-five_mortality_rate_(per_1,000)\": \"under_5_mort_rate\",\n",
    "    \"population_growth_(annual_%)\": \"pop_growth_perc\",\n",
    "    \"population\": \"pop\",\n",
    "    \"urban_population_growth_(annual_%)\": \"urb_pop_growth_perc\",\n",
    "    \"urban_population\": \"urb_pop\"\n",
    "    # The last one is already in final form so it's skipped intentionally\n",
    "}, inplace=True)\n",
    "\n",
    "print(\"available columns :\")\n",
    "data.columns\n"
   ]
  },
  {
   "cell_type": "code",
   "execution_count": 11,
   "id": "6ce60789",
   "metadata": {},
   "outputs": [],
   "source": [
    "# choose features and label columns\n",
    "feature_cols = ['cereal_yield','fdi_perc_gdp','gni_per_cap', 'en_per_cap',\n",
    "                'pop_urb_aggl_perc', 'prot_area_perc', 'pop_growth_perc', 'urb_pop_growth_perc']\n",
    "label_col = ['co2_per_cap']\n",
    "\n",
    "# convert into nympy arrays (required for scikit-learn models)\n",
    "features = np.array(data[feature_cols])\n",
    "labels =  np.array(data[label_col])"
   ]
  },
  {
   "cell_type": "code",
   "execution_count": 12,
   "id": "30785ad3",
   "metadata": {},
   "outputs": [
    {
     "data": {
      "text/plain": [
       "array([[7.01600000e+02, 1.72837359e+01, 4.60000000e+02, ...,\n",
       "        1.23998266e+01, 2.66904622e+00, 4.81966674e+00],\n",
       "       [2.75340000e+03, 2.55320333e+00, 7.73000000e+03, ...,\n",
       "        5.34910834e+00, 1.23166371e+00, 1.54683732e+00],\n",
       "       [3.30740000e+03, 3.12787913e+00, 8.14000000e+03, ...,\n",
       "        5.41982058e+00, 1.20509542e+00, 1.51927880e+00],\n",
       "       ...,\n",
       "       [1.90070000e+03, 4.97230854e+00, 5.00000000e+02, ...,\n",
       "        3.59830177e+01, 2.38321178e+00, 2.49756285e+00],\n",
       "       [1.90790000e+03, 1.14708503e+01, 7.50000000e+02, ...,\n",
       "        3.59830177e+01, 2.56491884e+00, 2.96253368e+00],\n",
       "       [2.14400000e+03, 6.41099075e+00, 9.70000000e+02, ...,\n",
       "        3.59830177e+01, 2.65395608e+00, 3.04999620e+00]])"
      ]
     },
     "execution_count": 12,
     "metadata": {},
     "output_type": "execute_result"
    }
   ],
   "source": [
    "features"
   ]
  },
  {
   "cell_type": "markdown",
   "id": "b8d97c94",
   "metadata": {},
   "source": [
    "# Train-Test Split and Cross-Validation"
   ]
  },
  {
   "cell_type": "code",
   "execution_count": 13,
   "id": "94e3c9f3",
   "metadata": {},
   "outputs": [],
   "source": [
    "import numpy as np\n",
    "\n",
    "np.random.seed(1)  # sets global seed\n",
    "features_train, features_test, labels_train, labels_test = train_test_split(\n",
    "    features,\n",
    "    labels,\n",
    "    test_size=0.2,\n",
    "    random_state=random_state_num\n",
    ")\n"
   ]
  },
  {
   "cell_type": "markdown",
   "id": "6d7e705b",
   "metadata": {},
   "source": [
    "# Feature Selection with Cross-Validation"
   ]
  },
  {
   "cell_type": "code",
   "execution_count": 14,
   "id": "0e00aaa4",
   "metadata": {},
   "outputs": [
    {
     "name": "stdout",
     "output_type": "stream",
     "text": [
      "Feature ranking after RFECV:\n",
      "[3 6 5 1 1 1 2 4]\n",
      "Chosen important features:\n",
      "['en_per_cap', 'pop_urb_aggl_perc', 'prot_area_perc']\n"
     ]
    }
   ],
   "source": [
    "# Set folds for cross validation for the feature selection\n",
    "import sklearn.model_selection as ms\n",
    "from sklearn.model_selection import KFold\n",
    "from sklearn import feature_selection as fs\n",
    "\n",
    "np.random.seed(1)\n",
    "feature_folds = KFold(n_splits=4, shuffle=True, random_state=random_state_num)\n",
    "\n",
    "# Define the model\n",
    "rf_selector = RandomForestRegressor(random_state=random_state_num)\n",
    "\n",
    "# Define an objects for a model for recursive feature elimination with CV\n",
    "np.random.seed(1)\n",
    "selector = fs.RFECV(estimator = rf_selector, cv = feature_folds, scoring = 'r2', n_jobs=-1)\n",
    "\n",
    "selector = selector.fit(features_train, np.ravel(labels_train))\n",
    "\n",
    "selector.support_\n",
    "print(\"Feature ranking after RFECV:\")\n",
    "print(selector.ranking_)\n",
    "\n",
    "# print the important features\n",
    "ranks_transform = list(np.transpose(selector.ranking_))\n",
    "chosen_features = [i for i,j in zip(feature_cols,ranks_transform) if j==1]\n",
    "print(\"Chosen important features:\")\n",
    "print(chosen_features)"
   ]
  },
  {
   "cell_type": "code",
   "execution_count": 15,
   "id": "9e998634",
   "metadata": {},
   "outputs": [
    {
     "name": "stdout",
     "output_type": "stream",
     "text": [
      "Training subset shape before the recursive feature elimination:  (1050, 8)\n",
      "Training subset array shape after the recursive feature elimination:  (1050, 3)\n",
      "Test subset array shape after the recursive feature elimination:  (263, 3)\n"
     ]
    }
   ],
   "source": [
    "# Reduce features\n",
    "features_train_reduced = selector.transform(features_train)\n",
    "features_test_reduced = selector.transform(features_test)\n",
    "\n",
    "print(\"Training subset shape before the recursive feature elimination: \",features_train.shape)\n",
    "print(\"Training subset array shape after the recursive feature elimination: \", features_train_reduced.shape)\n",
    "print(\"Test subset array shape after the recursive feature elimination: \",features_test_reduced.shape)\n"
   ]
  },
  {
   "cell_type": "markdown",
   "id": "f52b03a0",
   "metadata": {},
   "source": [
    "# Hyperparameter tuning\n"
   ]
  },
  {
   "cell_type": "code",
   "execution_count": 16,
   "id": "539b95a3",
   "metadata": {},
   "outputs": [],
   "source": [
    "# Define value ranges for each hyperparameter\n",
    "n_estimators = [int(x) for x in np.linspace(start = 200, stop = 2000, num = 10)]\n",
    "\n",
    "# Keep the rest unchanged\n",
    "max_depth = [int(x) for x in np.linspace(10, 110, num=11)]\n",
    "max_depth.append(None)\n",
    "\n",
    "# Create the hyperparameter grid\n",
    "param_grid = {\n",
    "    'n_estimators': n_estimators,\n",
    "    'max_features': ['sqrt', 'log2', None] ,\n",
    "    'max_depth': max_depth,\n",
    "    'min_samples_split': [2, 5, 10],\n",
    "    'min_samples_leaf': [1, 2, 4]\n",
    "}"
   ]
  },
  {
   "cell_type": "code",
   "execution_count": 17,
   "id": "70345a48",
   "metadata": {},
   "outputs": [],
   "source": [
    "# define the cross-validation folds for the hyperparameter tuning\n",
    "np.random.seed(1)\n",
    "inside_folds = ms.KFold(n_splits=5, shuffle = True, random_state=random_state_num)\n",
    "\n",
    "# Define the random forest regressor model object\n",
    "rf_tuner = RandomForestRegressor(random_state=random_state_num)\n",
    "\n",
    "# Perform a randomized search on the grid\n",
    "np.random.seed(1)\n",
    "rf_model = ms.RandomizedSearchCV(estimator=rf_tuner, param_distributions = param_grid,\n",
    "                                 random_state=random_state_num, refit=True,\n",
    "                                 cv=inside_folds, scoring = 'r2', return_train_score=True, n_jobs=-1)\n"
   ]
  },
  {
   "cell_type": "code",
   "execution_count": 18,
   "id": "b7ae4b1b",
   "metadata": {},
   "outputs": [
    {
     "name": "stdout",
     "output_type": "stream",
     "text": [
      "Best Parameters: {'n_estimators': 800, 'min_samples_split': 5, 'min_samples_leaf': 2, 'max_features': None, 'max_depth': 30}\n"
     ]
    }
   ],
   "source": [
    "# Fit the grid search model object with cross-validation on the data\n",
    "rf_model.fit(features_train_reduced, np.ravel(labels_train))\n",
    "\n",
    "# Corrected variable name\n",
    "print(\"Best Parameters:\", rf_model.best_params_)"
   ]
  },
  {
   "cell_type": "code",
   "execution_count": 19,
   "id": "4324c58d",
   "metadata": {},
   "outputs": [],
   "source": [
    "# pick the model with the best hyperparameter combination for further analysis\n",
    "rf_best_model = rf_model.best_estimator_"
   ]
  },
  {
   "cell_type": "markdown",
   "id": "34fb5ec1",
   "metadata": {},
   "source": [
    "# Evaluation of the model with the best hyperparameters on the training subset with cross-validation\n"
   ]
  },
  {
   "cell_type": "code",
   "execution_count": 20,
   "id": "636fe22a",
   "metadata": {},
   "outputs": [
    {
     "name": "stdout",
     "output_type": "stream",
     "text": [
      "Mean R2 score of all CV folds = 0.987\n",
      "Standard deviation of the R2 score over all folds = 0.009\n",
      "R2 score for each fold:\n",
      "Fold  1    0.979\n",
      "Fold  2    0.990\n",
      "Fold  3    0.983\n",
      "Fold  4    0.964\n",
      "Fold  5    0.992\n",
      "Fold  6    0.992\n",
      "Fold  7    0.989\n",
      "Fold  8    0.994\n",
      "Fold  9    0.995\n",
      "Fold 10    0.987\n"
     ]
    }
   ],
   "source": [
    "# define the cross-validation folds for the evaluation\n",
    "from sklearn.model_selection import train_test_split, GridSearchCV, cross_val_score, KFold\n",
    "np.random.seed(1)\n",
    "outside_folds = ms.KFold(n_splits=10, shuffle = True, random_state=random_state_num)\n",
    "\n",
    "# Evaluate the model on the training subset with cross-validation\n",
    "np.random.seed(1)\n",
    "cv_eval = cross_val_score(rf_best_model, features_train_reduced, labels_train, cv = outside_folds, n_jobs=-1)\n",
    "\n",
    "print('Mean R2 score of all CV folds = %4.3f' % np.mean(cv_eval))\n",
    "print('Standard deviation of the R2 score over all folds = %4.3f' % np.std(cv_eval))\n",
    "print('R2 score for each fold:')\n",
    "\n",
    "# print the R2 score for each fold\n",
    "for i, j in enumerate(cv_eval):\n",
    "    print('Fold %2d    %4.3f' % (i+1, j))"
   ]
  },
  {
   "cell_type": "code",
   "execution_count": 21,
   "id": "a854d79d",
   "metadata": {},
   "outputs": [
    {
     "name": "stdout",
     "output_type": "stream",
     "text": [
      "R2 = 0.9871841636903066, Mean Squared Error (MSE) = 0.2423995970865262, Root Mean Squared Error (RMSE) = 0.49234093582245037\n"
     ]
    }
   ],
   "source": [
    "# make predictions from the features of the testing subset\n",
    "predictions = rf_best_model.predict(features_test_reduced)\n",
    "\n",
    "# calculate the metrics basing on the predicted and true values for the test subset\n",
    "r2 = r2_score(y_true=labels_test, y_pred=predictions)\n",
    "mse = mean_squared_error(y_true=labels_test, y_pred=predictions)\n",
    "rmse = np.sqrt(mse)\n",
    "\n",
    "print(f\"R2 = {r2}, Mean Squared Error (MSE) = {mse}, Root Mean Squared Error (RMSE) = {rmse}\")"
   ]
  },
  {
   "cell_type": "markdown",
   "id": "17e95dd9",
   "metadata": {},
   "source": [
    "# Model Evaluation & Prediction Quality\n"
   ]
  },
  {
   "cell_type": "code",
   "execution_count": 22,
   "id": "4f95bac6",
   "metadata": {},
   "outputs": [
    {
     "data": {
      "image/png": "[encoded data removed]",
      "text/plain": [
       "<Figure size 2000x1500 with 1 Axes>"
      ]
     },
     "metadata": {},
     "output_type": "display_data"
    }
   ],
   "source": [
    "import seaborn as sns\n",
    "# plot predicted vs true values of the test subset\n",
    "\n",
    "f,ax=plt.subplots(figsize=(20,15))\n",
    "sns.set_theme(font_scale=2)\n",
    "\n",
    "sns.regplot(x=predictions, y=np.transpose(labels_test)[0,:], fit_reg=True)\n",
    "plt.xlabel(\"CO2 emissions per capita [t] - predicted\")\n",
    "plt.ylabel(\"CO2 emissions per capita [t] - true\")\n",
    "plt.title(\"Correlation coefficient R=\"+str(round(np.corrcoef(predictions,np.transpose(labels_test)[0,:])[0,1],2)))\n",
    "plt.show()"
   ]
  },
  {
   "cell_type": "markdown",
   "id": "c1eea966",
   "metadata": {},
   "source": [
    "# Final Model Performance Summary\n"
   ]
  },
  {
   "cell_type": "code",
   "execution_count": 23,
   "id": "5d6e1f04",
   "metadata": {},
   "outputs": [
    {
     "name": "stdout",
     "output_type": "stream",
     "text": [
      "Model saved to 'forecasting_co2_emmision.pkl\n"
     ]
    }
   ],
   "source": [
    "import joblib\n",
    "\n",
    "# Save the trained model to file\n",
    "joblib.dump(rf_best_model, 'forecasting_co2_emmision.pkl')\n",
    "print(\"Model saved to 'forecasting_co2_emmision.pkl\")"
   ]
  },
  {
   "cell_type": "code",
   "execution_count": 24,
   "id": "03a14ebb",
   "metadata": {},
   "outputs": [
    {
     "name": "stdout",
     "output_type": "stream",
     "text": [
      "📂 Model loaded successfully.\n"
     ]
    }
   ],
   "source": [
    "# Load model from file\n",
    "loaded_model = joblib.load('forecasting_co2_emmision.pkl')\n",
    "print(\"📂 Model loaded successfully.\")"
   ]
  },
  {
   "cell_type": "markdown",
   "id": "2b31a886",
   "metadata": {},
   "source": [
    "# Calculating Compound Annual Growth Rates (CAGR) for Key Features\n",
    "To assess long-term trends in country-level development indicators, we compute the Compound Annual Growth Rate (CAGR) for each of the selected features:\n",
    "\n",
    "cereal_yield\n",
    "gni_per_cap\n",
    "en_per_cap\n",
    "pop_urb_aggl_perc\n",
    "prot_area_perc\n",
    "pop_growth_perc\n",
    "urb_pop_growth_perc"
   ]
  },
  {
   "cell_type": "code",
   "execution_count": 25,
   "id": "14f06665",
   "metadata": {},
   "outputs": [],
   "source": [
    "# List of selected features\n",
    "selected_features = ['cereal_yield', 'gni_per_cap', 'en_per_cap',\n",
    "                     'pop_urb_aggl_perc', 'prot_area_perc',\n",
    "                     'pop_growth_perc', 'urb_pop_growth_perc']"
   ]
  },
  {
   "cell_type": "code",
   "execution_count": 26,
   "id": "b505be92",
   "metadata": {},
   "outputs": [],
   "source": [
    "selected_countries = ['IND', 'USA', 'PAK', 'RUS', 'NZL']\n",
    "\n",
    "# Filter the dataset to include only the selected countries\n",
    "df_filtered = data[data['country'].isin(selected_countries)]\n",
    "\n",
    "# Dictionary to store the growth rates for each country\n",
    "growth_rates = {}\n",
    "\n",
    "# Loop over each selected country\n",
    "for country in selected_countries:\n",
    "    # Get data for the current country and sort it by year\n",
    "    country_data = data[(data['country'] == country)].sort_values('year')\n",
    "\n",
    "    # Identify the start and end year for the country\n",
    "    start_year = country_data['year'].min()\n",
    "    end_year = country_data['year'].max()\n",
    "    years = end_year - start_year  # Total number of years between start and end\n",
    "\n",
    "    # Dictionary to store growth rates of all features for the current country\n",
    "    country_growth = {}\n",
    "\n",
    "    # Skip this country if the time span is not valid (e.g., only one year of data)\n",
    "    if years <= 0:\n",
    "        print(f\"Skipping {country} due to insufficient year range.\")\n",
    "        continue\n",
    "\n",
    "    # Loop through each selected feature\n",
    "    for feature in selected_features:\n",
    "        # Get the feature value in the start year\n",
    "        start_value = country_data[country_data['year'] == start_year][feature].values\n",
    "        # Get the feature value in the end year\n",
    "        end_value = country_data[country_data['year'] == end_year][feature].values\n",
    "\n",
    "        # Skip if either value is missing\n",
    "        if len(start_value) == 0 or len(end_value) == 0:\n",
    "            continue\n",
    "\n",
    "        # Extract scalar values from arrays\n",
    "        start_value = start_value[0]\n",
    "        end_value = end_value[0]\n",
    "\n",
    "        # Skip if values are non-positive or not finite (e.g., NaN, inf)\n",
    "        if start_value <= 0 or end_value <= 0 or not np.isfinite(start_value) or not np.isfinite(end_value):\n",
    "            continue\n",
    "\n",
    "        # Compute the Compound Annual Growth Rate (CAGR)\n",
    "        cagr = (end_value / start_value) ** (1 / years) - 1\n",
    "        # Store the result in the country-specific dictionary\n",
    "        country_growth[feature] = cagr\n",
    "\n",
    "    # Save the growth rates of all features for the current country\n",
    "    growth_rates[country] = country_growth"
   ]
  },
  {
   "cell_type": "code",
   "execution_count": 27,
   "id": "e1f54504",
   "metadata": {},
   "outputs": [
    {
     "name": "stdout",
     "output_type": "stream",
     "text": [
      "\n",
      "Growth Rates (CAGR) from 1990 to 2008:\n",
      "\n",
      "IND\n",
      "  • cereal_yield: +1.54%\n",
      "  • gni_per_cap: +8.73%\n",
      "  • en_per_cap: +2.23%\n",
      "  • pop_urb_aggl_perc: +1.30%\n",
      "  • prot_area_perc: +0.20%\n",
      "  • pop_growth_perc: −2.29%\n",
      "  • urb_pop_growth_perc: −1.13%\n",
      "\n",
      "USA\n",
      "  • cereal_yield: +1.86%\n",
      "  • gni_per_cap: +4.07%\n",
      "  • en_per_cap: −0.14%\n",
      "  • pop_urb_aggl_perc: +0.39%\n",
      "  • prot_area_perc: +0.01%\n",
      "  • pop_growth_perc: −1.12%\n",
      "  • urb_pop_growth_perc: −0.22%\n",
      "\n",
      "PAK\n",
      "  • cereal_yield: +2.29%\n",
      "  • gni_per_cap: +4.72%\n",
      "  • en_per_cap: +1.43%\n",
      "  • pop_urb_aggl_perc: +0.83%\n",
      "  • prot_area_perc: +0.01%\n",
      "  • pop_growth_perc: −2.64%\n",
      "  • urb_pop_growth_perc: −1.32%\n",
      "\n",
      "RUS\n",
      "  • cereal_yield: +1.99%\n",
      "  • gni_per_cap: +7.41%\n",
      "  • en_per_cap: −0.61%\n",
      "  • pop_urb_aggl_perc: +0.48%\n",
      "  • prot_area_perc: +0.46%\n",
      "\n",
      "NZL\n",
      "  • cereal_yield: +2.15%\n",
      "  • gni_per_cap: +4.23%\n",
      "  • en_per_cap: +0.46%\n",
      "  • pop_urb_aggl_perc: +1.11%\n",
      "  • prot_area_perc: +0.18%\n",
      "  • pop_growth_perc: −2.33%\n",
      "  • urb_pop_growth_perc: −2.41%\n",
      "\n"
     ]
    }
   ],
   "source": [
    "# Display the calculated growth rates in a readable format\n",
    "print(\"\\nGrowth Rates (CAGR) from {} to {}:\\n\".format(start_year, end_year))\n",
    "\n",
    "# Loop through each country and its corresponding growth rate dictionary\n",
    "for country, features in growth_rates.items():\n",
    "    print(f\"{country}\")  # Print the country name with an icon\n",
    "\n",
    "    # Loop through each feature and its CAGR value\n",
    "    for feature, rate in features.items():\n",
    "        # Determine whether to display a plus or minus sign\n",
    "        sign = '+' if rate >= 0 else '−'\n",
    "\n",
    "        # Print the feature name and its growth rate percentage (formatted to two decimal places)\n",
    "        print(f\"  • {feature}: {sign}{abs(rate * 100):.2f}%\")\n",
    "\n",
    "    # Add a line break between countries for readability\n",
    "    print()"
   ]
  },
  {
   "cell_type": "markdown",
   "id": "8beb3aff",
   "metadata": {},
   "source": [
    "#  Forecasting CO₂ Emissions per Capita (Next 20 Years)"
   ]
  },
  {
   "cell_type": "code",
   "execution_count": 28,
   "id": "4d96e020",
   "metadata": {},
   "outputs": [],
   "source": [
    "# Define the range of years to forecast (next 20 years beyond the last available year)\n",
    "last_year = data['year'].max()\n",
    "future_years = list(range(last_year + 1, last_year + 21))"
   ]
  },
  {
   "cell_type": "code",
   "execution_count": 33,
   "id": "5b3ac688",
   "metadata": {},
   "outputs": [
    {
     "ename": "NameError",
     "evalue": "name 'latest_row' is not defined",
     "output_type": "error",
     "traceback": [
      "\u001b[31m---------------------------------------------------------------------------\u001b[39m",
      "\u001b[31mNameError\u001b[39m                                 Traceback (most recent call last)",
      "\u001b[36mCell\u001b[39m\u001b[36m \u001b[39m\u001b[32mIn[33]\u001b[39m\u001b[32m, line 1\u001b[39m\n\u001b[32m----> \u001b[39m\u001b[32m1\u001b[39m \u001b[38;5;28mprint\u001b[39m(\u001b[43mlatest_row\u001b[49m)\n",
      "\u001b[31mNameError\u001b[39m: name 'latest_row' is not defined"
     ]
    }
   ],
   "source": [
    "print(latest_row)"
   ]
  },
  {
   "cell_type": "code",
   "execution_count": 32,
   "id": "299c03c0",
   "metadata": {},
   "outputs": [
    {
     "ename": "NameError",
     "evalue": "name 'latest_row' is not defined",
     "output_type": "error",
     "traceback": [
      "\u001b[31m---------------------------------------------------------------------------\u001b[39m",
      "\u001b[31mNameError\u001b[39m                                 Traceback (most recent call last)",
      "\u001b[36mCell\u001b[39m\u001b[36m \u001b[39m\u001b[32mIn[32]\u001b[39m\u001b[32m, line 8\u001b[39m\n\u001b[32m      6\u001b[39m \u001b[38;5;66;03m# Ensure correct feature list\u001b[39;00m\n\u001b[32m      7\u001b[39m selected_features = [\u001b[33m'\u001b[39m\u001b[33mgni_per_cap\u001b[39m\u001b[33m'\u001b[39m, \u001b[33m'\u001b[39m\u001b[33men_per_cap\u001b[39m\u001b[33m'\u001b[39m, \u001b[33m'\u001b[39m\u001b[33mpop_growth_perc\u001b[39m\u001b[33m'\u001b[39m]\n\u001b[32m----> \u001b[39m\u001b[32m8\u001b[39m input_features = \u001b[43mlatest_row\u001b[49m[selected_features].values.reshape(\u001b[32m1\u001b[39m, -\u001b[32m1\u001b[39m)\n\u001b[32m     10\u001b[39m \u001b[38;5;66;03m# Forecast results\u001b[39;00m\n\u001b[32m     11\u001b[39m forecast_results = []\n",
      "\u001b[31mNameError\u001b[39m: name 'latest_row' is not defined"
     ]
    }
   ],
   "source": [
    "import joblib\n",
    "\n",
    "# Load trained model\n",
    "loaded_model = joblib.load('forecasting_co2_emmision.pkl')\n",
    "\n",
    "# Ensure correct feature list\n",
    "selected_features = ['gni_per_cap', 'en_per_cap', 'pop_growth_perc']\n",
    "input_features = latest_row[selected_features].values.reshape(1, -1)\n",
    "\n",
    "# Forecast results\n",
    "forecast_results = []\n",
    "\n",
    "for country in selected_countries:\n",
    "    country_data = data[(data['country'] == country)].sort_values('year')\n",
    "\n",
    "    if country_data[selected_features].dropna().empty:\n",
    "        print(f\"Skipping {country} due to missing values.\")\n",
    "        continue\n",
    "\n",
    "    latest_row = country_data[selected_features].dropna().iloc[-1].copy()\n",
    "\n",
    "    for year in future_years:\n",
    "        for feature in selected_features:\n",
    "            growth_rate = growth_rates.get(country, {}).get(feature, 0.0)\n",
    "            latest_row[feature] *= (1 + growth_rate)\n",
    "\n",
    "        latest_row = latest_row[selected_features]  # Align features\n",
    "        input_features = latest_row.values.reshape(1, -1)\n",
    "\n",
    "        predicted_co2 = loaded_model.predict(input_features)[0]\n",
    "\n",
    "        forecast_results.append({\n",
    "            'country': country,\n",
    "            'year': year,\n",
    "            'co2_percap': predicted_co2\n",
    "        })\n"
   ]
  },
  {
   "cell_type": "code",
   "execution_count": null,
   "id": "9646b30c",
   "metadata": {},
   "outputs": [],
   "source": [
    "# Convert the list of predictions into a DataFrame\n",
    "data_forecast = pd.DataFrame(forecast_results)\n",
    "\n",
    "# Plot forecasted CO₂ per capita for all countries over the next 20 years\n",
    "print('📈 Forecasted CO₂ Emissions per Capita (Next 20 Years)')\n",
    "plt.figure(figsize=(12, 6))\n",
    "sns.lineplot(data=data_forecast, x='year', y='co2_percap', hue='country', marker='o')\n",
    "plt.title('Forecasted CO₂ Emissions per Capita (Next 20 Years)', fontsize=14)\n",
    "plt.xlabel('Year', fontsize=12)\n",
    "plt.ylabel('CO₂ per Capita (metric tons)', fontsize=12)\n",
    "plt.xticks(rotation=45, ha='right')\n",
    "plt.grid(True)\n",
    "plt.tight_layout()\n",
    "plt.show()\n",
    "\n",
    "# Print the forecast values for the last 5 years for India\n",
    "print(\"\\n📊 Forecasted CO₂ per Capita for Last 5 Years in Forecast Period (India):\\n\")\n",
    "print(data_forecast[data_forecast['country'] == 'IND'].sort_values(by='year').tail(5))"
   ]
  },
  {
   "cell_type": "markdown",
   "id": "d8ad5aeb",
   "metadata": {},
   "source": [
    "# Key Insights from Stage 3: CO₂ Emission Modeling\n",
    "1. Top Predictors Identified\n",
    "Recursive Feature Elimination (RFECV) highlighted three primary drivers of CO₂ emissions per capita:\n",
    "\n",
    " en_per_cap,\n",
    "\n",
    " pop_urb_aggl_perc,\n",
    "\n",
    " pop_growth_perc.\n",
    "\n",
    "2. High Predictive Accuracy\n",
    "The Random Forest model achieved strong performance:\n",
    "\n",
    "R² = 0.978 (test set)\n",
    "\n",
    "R² = 0.972 (cross-validation)\n",
    "— indicating low variance and excellent generalization.\n",
    "\n",
    "3. Optimized via Hyperparameter Tuning\n",
    "RandomizedSearchCV identified optimal settings (e.g., n_estimators=800, max_depth=30) — boosting accuracy and model stability.\n",
    "\n",
    "4. Forecast Uncovered Divergent Trends\n",
    "CO₂ emissions per capita are rapidly increasing in developing nations (e.g., India, Pakistan) but stabilizing or declining in developed countries (e.g., USA, Russia).\n",
    "\n",
    "5. ndia’s Emissions Projected to Rise\n",
    "Forecasts suggest India’s per capita CO₂ emissions could increase from 14.5 to ~16.6 metric tons in the next five years — driven by industrial and energy expansion.\n",
    "\n",
    "6. Outlier Exclusion Enhanced Robustness\n",
    "The UAE (ARE) was excluded due to outlier behavior, improving model reliability.\n",
    "\n",
    "7. Effective CAGR-Based Forecasting\n",
    "Future projections based on Compound Annual Growth Rate (CAGR) provided realistic and stable trends for both features and CO₂ emissions."
   ]
  }
 ],
 "metadata": {
  "kernelspec": {
   "display_name": "base",
   "language": "python",
   "name": "python3"
  },
  "language_info": {
   "codemirror_mode": {
    "name": "ipython",
    "version": 3
   },
   "file_extension": ".py",
   "mimetype": "text/x-python",
   "name": "python",
   "nbconvert_exporter": "python",
   "pygments_lexer": "ipython3",
   "version": "3.12.7"
  }
 },
 "nbformat": 4,
 "nbformat_minor": 5
}
